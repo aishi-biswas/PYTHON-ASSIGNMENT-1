{
  "nbformat": 4,
  "nbformat_minor": 0,
  "metadata": {
    "colab": {
      "provenance": []
    },
    "kernelspec": {
      "name": "python3",
      "display_name": "Python 3"
    },
    "language_info": {
      "name": "python"
    }
  },
  "cells": [
    {
      "cell_type": "code",
      "execution_count": 15,
      "metadata": {
        "colab": {
          "base_uri": "https://localhost:8080/"
        },
        "id": "bRvSIOhvzmt4",
        "outputId": "c12d30d8-921c-45ec-d03b-cfe2d262c508"
      },
      "outputs": [
        {
          "output_type": "stream",
          "name": "stdout",
          "text": [
            "skipping....\n",
            "skipping....\n",
            "skipping....\n",
            "[('John', 85.0), ('Alice', 90.0), ('Bob', 78.0), ('Eve', 88.0), ('Grace', 83.0), ('Hank', 67.0), ('Irene', 50.0), ('Jack', 85.0)]\n",
            "skipping....\n",
            "skipping....\n",
            "skipping....\n",
            "John\n",
            "Alice\n",
            "Eve\n",
            "Grace\n",
            "Jack\n"
          ]
        }
      ],
      "source": [
        "import os\n",
        "\n",
        "def scores_read(file_name):\n",
        "    students_score=[]\n",
        "    with open(file_name, 'r') as file:\n",
        "        for line in file:\n",
        "            try:\n",
        "                name, score= line.strip().split(',')\n",
        "                score=float(score)\n",
        "                if name:\n",
        "                    students_score.append((name, score))\n",
        "            except ValueError:\n",
        "                print(\"skipping....\")\n",
        "    return students_score\n",
        "\n",
        "def calculate_score(students_score):\n",
        "    total_sum=sum(score for _,score in students_score)\n",
        "    average_score=total_sum/len(students_score)\n",
        "    return average_score\n",
        "\n",
        "def calculate_below_avg(student_score, average_score):\n",
        "    above_avg=[]\n",
        "    for name, score in student_score:\n",
        "        if score>average_score:\n",
        "            above_avg.append(name)\n",
        "    return above_avg\n",
        "\n",
        "def display(list):\n",
        "    for name in list:\n",
        "        print(name)\n",
        "\n",
        "file_name = r\"/content/student_scores.txt\"\n",
        "print(scores_read(file_name))\n",
        "\n",
        "student_score=scores_read(file_name)\n",
        "average_score=calculate_score(student_score)\n",
        "list=calculate_below_avg(student_score, average_score)\n",
        "display(list)\n",
        "\n"
      ]
    },
    {
      "cell_type": "code",
      "source": [
        "def get(product_ids):\n",
        "    if(len(product_ids)==0):\n",
        "        return\n",
        "    remove_list=list(set(product_ids))\n",
        "    sorted_list=sorted(remove_list)\n",
        "    return sorted_list\n",
        "\n",
        "def display(sorted_list):\n",
        "    for product_id in sorted_list:\n",
        "        print(product_id)\n",
        "\n",
        "product_ids = [\n",
        "    \"A123\", \"B456\", \"C789\", \"A123\", \"D012\", \"B456\",\n",
        "    \"E345\", \"F678\", \"G910\", \"H111\", \"E345\", \"I222\",\n",
        "    \"J333\", \"K444\", \"F678\", \"L555\"\n",
        "    ]\n",
        "\n",
        "sorted_list=get(product_ids)\n",
        "display(sorted_list)\n"
      ],
      "metadata": {
        "colab": {
          "base_uri": "https://localhost:8080/"
        },
        "id": "nYg_8UNszzFT",
        "outputId": "465df32a-4dea-4dc3-d4ef-5137b382f1cc"
      },
      "execution_count": 14,
      "outputs": [
        {
          "output_type": "stream",
          "name": "stdout",
          "text": [
            "A123\n",
            "B456\n",
            "C789\n",
            "D012\n",
            "E345\n",
            "F678\n",
            "G910\n",
            "H111\n",
            "I222\n",
            "J333\n",
            "K444\n",
            "L555\n"
          ]
        }
      ]
    },
    {
      "cell_type": "code",
      "source": [
        "def get(customer_data):\n",
        "    customer_dict={}\n",
        "    for name, amount in customer_data:\n",
        "        if name in customer_dict:\n",
        "            customer_dict[name]+=amount\n",
        "        else:\n",
        "            customer_dict[name]=amount\n",
        "\n",
        "    for name in sorted(customer_dict):\n",
        "        print(f'{name}:{customer_dict[name]}')\n",
        "\n",
        "customer_data=[('Alice', 200), ('Bob',300), ('Alice', 400), ('Allison',100)]\n",
        "\n",
        "get(customer_data)\n",
        "\n",
        "\n"
      ],
      "metadata": {
        "colab": {
          "base_uri": "https://localhost:8080/"
        },
        "id": "E-5E6HYYz3e0",
        "outputId": "886a2985-0f94-480c-ec2d-dca0999f77e8"
      },
      "execution_count": 13,
      "outputs": [
        {
          "output_type": "stream",
          "name": "stdout",
          "text": [
            "Alice:600\n",
            "Allison:100\n",
            "Bob:300\n"
          ]
        }
      ]
    },
    {
      "cell_type": "code",
      "source": [
        "import pickle\n",
        "import os\n",
        "\n",
        "def save(filename, preferences):\n",
        "    try:\n",
        "        with open(filename, 'wb') as file:\n",
        "            pickle.dump(preferences, file)\n",
        "        print(\"Preferences saved successfully.\")\n",
        "    except Exception as e:\n",
        "        print(f\"Error saving preferences: {e}\")\n",
        "\n",
        "def load(filename):\n",
        "    if not os.path.exists(filename):\n",
        "        print(\"Preferences file not found. Loading default preferences.\")\n",
        "        return default()\n",
        "\n",
        "    try:\n",
        "        with open(filename, 'rb') as file:\n",
        "            preferences = pickle.load(file)\n",
        "        print(\"Preferences loaded successfully.\")\n",
        "        return preferences\n",
        "    except (pickle.UnpicklingError, EOFError, FileNotFoundError) as e:\n",
        "        print(f\"Error loading preferences: {e}. Loading default preferences.\")\n",
        "        return default()\n",
        "\n",
        "def default():\n",
        "    return {\n",
        "        'theme': 'light',\n",
        "        'language': 'English',\n",
        "        'notifications': True\n",
        "    }\n",
        "\n",
        "filename = r\"/content/user_preferences.pkl\"\n",
        "\n",
        "user_preferences = {\n",
        "    'theme': 'dark',\n",
        "    'language': 'Spanish',\n",
        "    'notifications': False\n",
        "}\n",
        "\n",
        "save(filename, user_preferences)\n",
        "\n",
        "loaded_preferences = load(filename)\n",
        "\n",
        "print(\"Loaded Preferences:\", loaded_preferences)\n"
      ],
      "metadata": {
        "colab": {
          "base_uri": "https://localhost:8080/"
        },
        "id": "VBYU1Tdtz8PR",
        "outputId": "3453cded-1fa9-4b84-89f0-ca00e73b35e9"
      },
      "execution_count": 12,
      "outputs": [
        {
          "output_type": "stream",
          "name": "stdout",
          "text": [
            "Preferences saved successfully.\n",
            "Preferences loaded successfully.\n",
            "Loaded Preferences: {'theme': 'dark', 'language': 'Spanish', 'notifications': False}\n"
          ]
        }
      ]
    },
    {
      "cell_type": "code",
      "source": [
        "import pandas as pd\n",
        "import os\n",
        "\n",
        "def analyzeSalaries(input_file, output_file):\n",
        "\n",
        "    if not os.path.exists(input_file):\n",
        "        print(f\"Error: File '{input_file}' not found.\")\n",
        "        return\n",
        "\n",
        "    try:\n",
        "        # Read the CSV file into a DataFrame\n",
        "        df = pd.read_csv(input_file)\n",
        "\n",
        "        if not {'employee_name', 'department', 'salary'}.issubset(df.columns):\n",
        "            print(f\"Error: Required columns  missing.\")\n",
        "            return\n",
        "\n",
        "        df['salary'] = pd.to_numeric(df['salary'], errors='coerce')\n",
        "\n",
        "        df = df.dropna(subset=['salary'])\n",
        "\n",
        "        result = df.groupby('department').agg(\n",
        "            total_salary=pd.NamedAgg(column='salary', aggfunc='sum'),\n",
        "            average_salary=pd.NamedAgg(column='salary', aggfunc='mean')\n",
        "        ).reset_index()\n",
        "\n",
        "        result.to_csv(output_file, index=False)\n",
        "        print(f\"Salary analysis saved to '{output_file}'.\")\n",
        "\n",
        "    except pd.errors.EmptyDataError:\n",
        "        print(f\"Error: The file '{input_file}' is empty or contains no valid data.\")\n",
        "    except Exception as e:\n",
        "        print(f\"An unexpected error occurred: {e}\")\n",
        "\n",
        "input_file =  r\"/content/employee_data.csv\"\n",
        "output_file = r\"/content/salary_analysis.csv\"\n",
        "\n",
        "analyzeSalaries(input_file, output_file)\n"
      ],
      "metadata": {
        "colab": {
          "base_uri": "https://localhost:8080/"
        },
        "id": "Tif47qOF0AyU",
        "outputId": "ac1a0fd9-ac85-4caf-94eb-bc61fa770330"
      },
      "execution_count": 18,
      "outputs": [
        {
          "output_type": "stream",
          "name": "stdout",
          "text": [
            "Salary analysis saved to '/content/salary_analysis.csv'.\n"
          ]
        }
      ]
    },
    {
      "cell_type": "code",
      "source": [
        "import re\n",
        "\n",
        "def isValid(email):\n",
        "    pattern = r'^[a-zA-Z0-9_.+-]+@[a-zA-Z0-9-]+\\.[a-zA-Z0-9-.]+$'\n",
        "    return re.match(pattern, email) is not None\n",
        "\n",
        "def filter(emails):\n",
        "    valid_emails = [email for email in emails if isValid(email)]\n",
        "    return valid_emails\n",
        "\n",
        "signups = [\n",
        "    'user@example.com',\n",
        "    'invalid-email',\n",
        "    'john.doe@domain.co.uk',\n",
        "    'user@domain@domain.com',\n",
        "    'valid.email@sub.domain.com',\n",
        "    'user@domain'\n",
        "]\n",
        "\n",
        "valid_emails = filter(signups)\n",
        "print(valid_emails)\n"
      ],
      "metadata": {
        "colab": {
          "base_uri": "https://localhost:8080/"
        },
        "id": "TmnUrTkP0FJo",
        "outputId": "11cb1416-9f26-4181-c6f9-1e3ed3093ada"
      },
      "execution_count": 9,
      "outputs": [
        {
          "output_type": "stream",
          "name": "stdout",
          "text": [
            "['user@example.com', 'john.doe@domain.co.uk', 'valid.email@sub.domain.com']\n"
          ]
        }
      ]
    },
    {
      "cell_type": "code",
      "source": [
        "def convert_currency(amount, conversion_rate):\n",
        "    try:\n",
        "        amount = float(amount)\n",
        "        conversion_rate = float(conversion_rate)\n",
        "\n",
        "        if conversion_rate == 0:\n",
        "            raise ValueError(\"Conversion rate cannot be zero.\")\n",
        "\n",
        "        converted_amount = amount * conversion_rate\n",
        "        return converted_amount\n",
        "\n",
        "    except ValueError as e:\n",
        "        return f\"Error: {e}\"\n",
        "\n",
        "amount = input(\"Enter the amount to convert: \")\n",
        "conversion_rate = input(\"Enter the conversion rate: \")\n",
        "result = convert_currency(amount, conversion_rate)\n",
        "print(f\"Converted amount: {result}\")\n",
        "\n"
      ],
      "metadata": {
        "colab": {
          "base_uri": "https://localhost:8080/"
        },
        "id": "7lZOoFZl0JUt",
        "outputId": "bed9e780-cd0a-496e-c6b1-5a6513ccb8ad"
      },
      "execution_count": 8,
      "outputs": [
        {
          "output_type": "stream",
          "name": "stdout",
          "text": [
            "Enter the amount to convert: 2100\n",
            "Enter the conversion rate: 1.5\n",
            "Converted amount: 3150.0\n"
          ]
        }
      ]
    },
    {
      "cell_type": "code",
      "source": [
        "def process_ratings(ratings):\n",
        "    if not ratings:\n",
        "        return \"No ratings provided.\"\n",
        "\n",
        "    good_ratings = [rating**2 for rating in ratings if rating >= 5]\n",
        "\n",
        "    return good_ratings\n",
        "\n",
        "ratings_list = [3, 8, 5, 10, 4, 7, 1]\n",
        "\n",
        "result = process_ratings(ratings_list)\n",
        "\n",
        "print(\"Processed Ratings:\", result)\n"
      ],
      "metadata": {
        "colab": {
          "base_uri": "https://localhost:8080/"
        },
        "id": "pyK2Oim00MxN",
        "outputId": "d3e10641-a7bf-4062-ba6e-af327aaecf8b"
      },
      "execution_count": 7,
      "outputs": [
        {
          "output_type": "stream",
          "name": "stdout",
          "text": [
            "Processed Ratings: [64, 25, 100, 49]\n"
          ]
        }
      ]
    },
    {
      "cell_type": "code",
      "source": [
        "import re\n",
        "\n",
        "def extract(filename):\n",
        "    try:\n",
        "        with open(filename, 'r') as file:\n",
        "            content = file.read()\n",
        "\n",
        "        pattern = r'\\(?\\d{3}\\)?[-\\s]\\d{3}-\\d{4}'\n",
        "\n",
        "        phone_numbers = re.findall(pattern, content)\n",
        "\n",
        "        if phone_numbers:\n",
        "            print(\"Valid Phone Numbers:\")\n",
        "            for phone_number in phone_numbers:\n",
        "                print(phone_number)\n",
        "        else:\n",
        "            print(\"No valid phone numbers found.\")\n",
        "\n",
        "    except FileNotFoundError:\n",
        "        print(f\"Error: File '{filename}' not found.\")\n",
        "    except Exception as e:\n",
        "        print(f\"An error occurred: {e}\")\n",
        "\n",
        "filename =  r\"/content/client_data.txt\"\n",
        "extract(filename)\n"
      ],
      "metadata": {
        "colab": {
          "base_uri": "https://localhost:8080/"
        },
        "id": "ylho4gUs0Qao",
        "outputId": "9d4b547e-3535-4ffd-a7c2-58d7203c16e3"
      },
      "execution_count": 19,
      "outputs": [
        {
          "output_type": "stream",
          "name": "stdout",
          "text": [
            "Valid Phone Numbers:\n",
            "(123) 456-7890\n",
            "123-456-7890\n",
            "(456) 789-0123\n",
            "321-654-0987\n",
            "(321) 654-9876\n"
          ]
        }
      ]
    },
    {
      "cell_type": "code",
      "source": [
        "def remove_duplicates(customers):\n",
        "    unique_customers = list(set(customers))\n",
        "    print(\"Unique Customer Records:\")\n",
        "    for customer in unique_customers:\n",
        "        print(customer)\n",
        "\n",
        "customer_records = [\n",
        "    ('John Doe', 'john@example.com'),\n",
        "    ('Jane Smith', 'jane@example.com'),\n",
        "    ('John Doe', 'john@example.com'),\n",
        "    ('Alice Brown', 'alice@example.com'),\n",
        "    ('Jane Smith', 'jane@example.com')\n",
        "]\n",
        "\n",
        "remove_duplicates(customer_records)\n"
      ],
      "metadata": {
        "colab": {
          "base_uri": "https://localhost:8080/"
        },
        "id": "BnMydCwO0Tx1",
        "outputId": "cc2c5ccc-28f0-45be-947e-3fff4ed711ff"
      },
      "execution_count": 6,
      "outputs": [
        {
          "output_type": "stream",
          "name": "stdout",
          "text": [
            "Unique Customer Records:\n",
            "('Jane Smith', 'jane@example.com')\n",
            "('John Doe', 'john@example.com')\n",
            "('Alice Brown', 'alice@example.com')\n"
          ]
        }
      ]
    },
    {
      "cell_type": "code",
      "source": [
        "import pandas as pd\n",
        "\n",
        "def low_stock_products(csv_file):\n",
        "    try:\n",
        "        df = pd.read_csv(csv_file)\n",
        "        required_columns = ['product_id', 'name', 'quantity']\n",
        "        for col in required_columns:\n",
        "            if col not in df.columns:\n",
        "                raise KeyError(f\"Missing required column: {col}\")\n",
        "\n",
        "        low_stock = df[df['quantity'] < 10]\n",
        "\n",
        "        if not low_stock.empty:\n",
        "            return low_stock\n",
        "        else:\n",
        "            return \"No products with low stock.\"\n",
        "\n",
        "    except FileNotFoundError:\n",
        "        return \"Error: CSV file not found.\"\n",
        "\n",
        "    except pd.errors.EmptyDataError:\n",
        "        return \"Error: CSV file is empty or malformed.\"\n",
        "\n",
        "    except KeyError as e:\n",
        "        return f\"Error: {e}\"\n",
        "\n",
        "    except Exception as e:\n",
        "        return f\"An unexpected error occurred: {e}\"\n",
        "\n",
        "csv_file = r\"/content/inventory.csv\"\n",
        "result = low_stock_products(csv_file)\n",
        "print(result)\n"
      ],
      "metadata": {
        "colab": {
          "base_uri": "https://localhost:8080/"
        },
        "id": "URo5-1c90XHK",
        "outputId": "546e9236-eaf8-4fdb-8a2e-91b7c0ba4e90"
      },
      "execution_count": 20,
      "outputs": [
        {
          "output_type": "stream",
          "name": "stdout",
          "text": [
            "   product_id       name  quantity\n",
            "0         101  Product A         5\n",
            "2         103  Product C         8\n",
            "4         105  Product E         2\n",
            "6         107  Product G         7\n",
            "7         108  Product H         9\n",
            "9         110  Product J         1\n"
          ]
        }
      ]
    },
    {
      "cell_type": "code",
      "source": [
        "import numpy as np\n",
        "\n",
        "np.random.seed(42)\n",
        "player_scores = np.random.randint(50, 101, size=(50, 30))\n",
        "\n",
        "mean = np.mean(player_scores, axis=1)\n",
        "median = np.median(player_scores, axis=1)\n",
        "variance = np.var(player_scores, axis=1)\n",
        "std_deviation = np.std(player_scores, axis=1)\n",
        "\n",
        "print(\"Mean Scores:\", mean)\n",
        "print(\"Median Scores:\", median)\n",
        "print(\"Variance of Scores:\", variance)\n",
        "print(\"Standard Deviation of Scores:\", std_deviation)\n"
      ],
      "metadata": {
        "colab": {
          "base_uri": "https://localhost:8080/"
        },
        "id": "QGuNTy_50azs",
        "outputId": "8555ba2b-89ec-4651-ebb3-67d0aca21b14"
      },
      "execution_count": 5,
      "outputs": [
        {
          "output_type": "stream",
          "name": "stdout",
          "text": [
            "Mean Scores: [74.1        75.2        73.66666667 75.16666667 72.7        78.2\n",
            " 76.         73.9        72.1        74.         77.16666667 77.36666667\n",
            " 78.3        78.96666667 75.3        74.9        74.86666667 73.63333333\n",
            " 77.23333333 79.06666667 75.13333333 75.06666667 73.43333333 77.03333333\n",
            " 71.8        76.46666667 75.         72.36666667 76.23333333 74.13333333\n",
            " 70.33333333 78.6        77.73333333 78.         71.9        73.93333333\n",
            " 69.7        72.9        78.         76.06666667 74.13333333 79.2\n",
            " 75.         77.6        77.16666667 73.06666667 75.8        72.2\n",
            " 75.76666667 76.5       ]\n",
            "Median Scores: [73.  74.5 71.  74.5 74.  80.  77.  76.  70.  74.5 80.  78.  80.  79.5\n",
            " 72.  76.  75.  75.5 81.  82.  72.5 73.  72.5 77.  68.5 77.  75.5 71.\n",
            " 79.  73.  70.  75.5 76.  79.  73.  72.  65.  72.5 82.  79.5 75.5 81.\n",
            " 74.5 75.5 78.  75.  78.5 70.  74.5 76. ]\n",
            "Variance of Scores: [173.95666667 268.49333333 204.62222222 221.33888889 205.74333333\n",
            " 204.02666667 181.         290.42333333 169.89       251.13333333\n",
            " 165.73888889 206.23222222 168.27666667 190.96555556 223.81\n",
            " 220.62333333 224.84888889 181.36555556 245.84555556 188.92888889\n",
            " 161.78222222 177.19555556 247.04555556 225.76555556 172.96\n",
            " 182.18222222 232.46666667 245.29888889 231.84555556 239.11555556\n",
            " 214.08888889 198.97333333 210.86222222 208.4        212.55666667\n",
            " 268.39555556 211.81       202.15666667 230.2        192.26222222\n",
            " 236.71555556 218.56       215.66666667 189.04       229.00555556\n",
            " 261.26222222 202.56       212.36       217.64555556 130.91666667]\n",
            "Standard Deviation of Scores: [13.18926331 16.38576618 14.30462241 14.87746245 14.3437559  14.28379035\n",
            " 13.45362405 17.04181133 13.03418582 15.84718692 12.87396166 14.36078766\n",
            " 12.97214965 13.81902875 14.96028075 14.85339467 14.99496212 13.46720296\n",
            " 15.67946286 13.74514056 12.71936407 13.31148209 15.71768289 15.02549685\n",
            " 13.15142578 13.49748948 15.2468576  15.66202059 15.22647548 15.46336172\n",
            " 14.63177668 14.10579077 14.52109577 14.43606595 14.57932326 16.38278229\n",
            " 14.55369369 14.21818085 15.17234326 13.86586536 15.38556322 14.78377489\n",
            " 14.68559385 13.74918179 15.13292951 16.16360796 14.2323575  14.57257699\n",
            " 14.75281517 11.44188213]\n"
          ]
        }
      ]
    },
    {
      "cell_type": "code",
      "source": [
        "import pickle\n",
        "import re\n",
        "\n",
        "def save(tasks, filename):\n",
        "    try:\n",
        "        with open(filename, 'wb') as file:\n",
        "            pickle.dump(tasks, file)\n",
        "        print(\"Tasks saved successfully.\")\n",
        "    except Exception as e:\n",
        "        print(f\"Error saving tasks: {e}\")\n",
        "\n",
        "def load(filename):\n",
        "    try:\n",
        "        with open(filename, 'rb') as file:\n",
        "            tasks = pickle.load(file)\n",
        "        return tasks\n",
        "    except FileNotFoundError:\n",
        "        print(\"No saved tasks found.\")\n",
        "        return []\n",
        "    except (pickle.UnpicklingError, EOFError):\n",
        "        print(\"Error: Data file is corrupted.\")\n",
        "        return []\n",
        "\n",
        "filename = r\"C:\\Users\\aishi\\Downloads\\tasks.pkl\"\n",
        "\n",
        "tasks = ['Finish project', 'Buy groceries', 'Call friend']\n",
        "\n",
        "save(tasks, filename)\n",
        "\n",
        "loaded_tasks = load(filename)\n",
        "print(\"Loaded Tasks:\", loaded_tasks)\n",
        "\n"
      ],
      "metadata": {
        "colab": {
          "base_uri": "https://localhost:8080/"
        },
        "id": "wrh0o36W0hpj",
        "outputId": "8726e80f-96ca-4e3a-f8ec-061c7effefdf"
      },
      "execution_count": 3,
      "outputs": [
        {
          "output_type": "stream",
          "name": "stdout",
          "text": [
            "Tasks saved successfully.\n",
            "Loaded Tasks: ['Finish project', 'Buy groceries', 'Call friend']\n"
          ]
        }
      ]
    },
    {
      "cell_type": "code",
      "source": [
        "import re\n",
        "\n",
        "def extract(post):\n",
        "    hashtags = re.findall(r'#\\w+', post)\n",
        "    valid_hashtags = {tag for tag in hashtags if re.match(r'#\\w+', tag)}\n",
        "    sorted_hashtags = sorted(valid_hashtags)\n",
        "    return sorted_hashtags\n",
        "\n",
        "post = \"Hi#My name is Aishi! I like to code #in_python.\"\n",
        "hashtags = extract(post)\n",
        "print(\"Unique Hashtags:\", hashtags)\n",
        "\n"
      ],
      "metadata": {
        "colab": {
          "base_uri": "https://localhost:8080/"
        },
        "id": "hOIJ__gd0ii5",
        "outputId": "84b256b0-add6-44de-c37c-143190903e6a"
      },
      "execution_count": 4,
      "outputs": [
        {
          "output_type": "stream",
          "name": "stdout",
          "text": [
            "Unique Hashtags: ['#My', '#in_python']\n"
          ]
        }
      ]
    }
  ]
}